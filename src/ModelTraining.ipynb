{
 "cells": [
  {
   "cell_type": "code",
   "execution_count": null,
   "id": "c31ea25d",
   "metadata": {
    "vscode": {
     "languageId": "plaintext"
    }
   },
   "outputs": [],
   "source": [
    "import pickle\n",
    "from sklearn.neighbors import KNeighborsClassifier\n"
   ]
  },
  {
   "cell_type": "code",
   "execution_count": null,
   "id": "b889e707",
   "metadata": {
    "vscode": {
     "languageId": "plaintext"
    }
   },
   "outputs": [],
   "source": [
    "# Load data\n",
    "with open('data.pickle', 'rb') as f:\n",
    "    data, labels = pickle.load(f)\n"
   ]
  },
  {
   "cell_type": "code",
   "execution_count": null,
   "id": "a6fe943c",
   "metadata": {},
   "outputs": [],
   "source": [
    "# Encode labels as integers\n",
    "label_set = sorted(set(labels))\n",
    "label_map = {label: idx for idx, label in enumerate(label_set)}\n",
    "labels_int = [label_map[label] for label in labels]"
   ]
  },
  {
   "cell_type": "code",
   "execution_count": null,
   "id": "386f906b",
   "metadata": {},
   "outputs": [],
   "source": [
    "# Train classifier\n",
    "clf = KNeighborsClassifier(n_neighbors=3)\n",
    "clf.fit(data, labels_int)"
   ]
  },
  {
   "cell_type": "code",
   "execution_count": null,
   "id": "6f7108c8",
   "metadata": {},
   "outputs": [],
   "source": [
    "# Save model and label map\n",
    "with open('gesture_classifier.pickle', 'wb') as f:\n",
    "    pickle.dump(clf, f)\n",
    "\n",
    "with open('label_map.pickle', 'wb') as f:\n",
    "    pickle.dump(label_map, f)\n",
    "\n",
    "print(\"Model and label map saved successfully.\")\n"
   ]
  }
 ],
 "metadata": {
  "language_info": {
   "name": "python"
  }
 },
 "nbformat": 4,
 "nbformat_minor": 5
}
