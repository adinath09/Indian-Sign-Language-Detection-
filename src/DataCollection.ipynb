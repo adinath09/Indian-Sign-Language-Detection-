{
 "cells": [
  {
   "cell_type": "code",
   "execution_count": null,
   "id": "e9aaca6f",
   "metadata": {
    "vscode": {
     "languageId": "plaintext"
    }
   },
   "outputs": [],
   "source": [
    "import os\n",
    "import pickle\n",
    "import mediapipe as mp\n",
    "import cv2\n"
   ]
  },
  {
   "cell_type": "code",
   "execution_count": null,
   "id": "4439d76b",
   "metadata": {
    "vscode": {
     "languageId": "plaintext"
    }
   },
   "outputs": [],
   "source": [
    "# Initialize MediaPipe Hands\n",
    "mp_hands = mp.solutions.hands\n",
    "hands = mp_hands.Hands(static_image_mode=True, max_num_hands=2, min_detection_confidence=0.3)"
   ]
  },
  {
   "cell_type": "code",
   "execution_count": null,
   "id": "78a967b7",
   "metadata": {
    "vscode": {
     "languageId": "plaintext"
    }
   },
   "outputs": [],
   "source": [
    "DATA_DIR = \"F:/ISL/data\""
   ]
  },
  {
   "cell_type": "code",
   "execution_count": null,
   "id": "746315d2",
   "metadata": {
    "vscode": {
     "languageId": "plaintext"
    }
   },
   "outputs": [],
   "source": [
    "data = []\n",
    "labels = []\n",
    "\n",
    "for dir_ in os.listdir(DATA_DIR):\n",
    "    dir_path = os.path.join(DATA_DIR, dir_)\n",
    "\n",
    "    if not os.path.isdir(dir_path):\n",
    "        continue\n",
    "\n",
    "    for img_path in os.listdir(dir_path):\n",
    "        if not img_path.lower().endswith(('.png', '.jpg', '.jpeg')):\n",
    "            continue\n",
    "\n",
    "        print(f\"Processing: {img_path}\")\n",
    "        img_path_full = os.path.join(dir_path, img_path)\n",
    "        img = cv2.imread(img_path_full)\n",
    "\n",
    "        if img is None:\n",
    "            print(f\"[Warning] Failed to load image: {img_path_full}\")\n",
    "            continue\n",
    "\n",
    "        img_rgb = cv2.cvtColor(img, cv2.COLOR_BGR2RGB)\n",
    "        results = hands.process(img_rgb)\n",
    "\n",
    "        if results.multi_hand_landmarks:\n",
    "            hand1 = []\n",
    "            hand2 = []\n",
    "\n",
    "            for idx, hand_landmarks in enumerate(results.multi_hand_landmarks):\n",
    "                hand_data = []\n",
    "                x_ = [lm.x for lm in hand_landmarks.landmark]\n",
    "                y_ = [lm.y for lm in hand_landmarks.landmark]\n",
    "\n",
    "                width = max(x_) - min(x_)\n",
    "                height = max(y_) - min(y_)\n",
    "                if width == 0 or height == 0:\n",
    "                    continue  # Avoid division by zero\n",
    "\n",
    "                for lm in hand_landmarks.landmark:\n",
    "                    norm_x = (lm.x - min(x_)) / width\n",
    "                    norm_y = (lm.y - min(y_)) / height\n",
    "                    hand_data.append(norm_x)\n",
    "                    hand_data.append(norm_y)\n",
    "\n",
    "                if idx == 0:\n",
    "                    hand1 = hand_data\n",
    "                elif idx == 1:\n",
    "                    hand2 = hand_data\n",
    "\n",
    "            if not hand1:\n",
    "                hand1 = [0.0] * 42\n",
    "            if not hand2:\n",
    "                hand2 = [0.0] * 42\n",
    "\n",
    "            data_aux = hand1 + hand2\n",
    "            data.append(data_aux)\n",
    "            labels.append(dir_)\n",
    "        else:\n",
    "            print(f\"Skipping sample {img_path}: no hand detected.\")\n"
   ]
  },
  {
   "cell_type": "code",
   "execution_count": null,
   "id": "523c81b8",
   "metadata": {
    "vscode": {
     "languageId": "plaintext"
    }
   },
   "outputs": [],
   "source": [
    "# Save the collected data\n",
    "with open('data.pickle', 'wb') as f:\n",
    "    pickle.dump((data, labels), f)\n",
    "\n",
    "print(\"Data collection complete. Saved to data.pickle.\")\n"
   ]
  }
 ],
 "metadata": {
  "language_info": {
   "name": "python"
  }
 },
 "nbformat": 4,
 "nbformat_minor": 5
}
